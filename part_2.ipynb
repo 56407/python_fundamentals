{
 "cells": [
  {
   "cell_type": "markdown",
   "metadata": {},
   "source": [
    "# 0. Overview\n",
    "\n",
    "We will be analyzing an extract of 1994 U.S. Census data. See more on the data set [here](https://archive.ics.uci.edu/ml/datasets/census+income). First, we are going to need some help from some well-known, third-party libraries:"
   ]
  },
  {
   "cell_type": "code",
   "execution_count": 1,
   "metadata": {
    "scrolled": true
   },
   "outputs": [],
   "source": [
    "import numpy as np\n",
    "import pandas as pd\n",
    "import matplotlib.pyplot as plt"
   ]
  },
  {
   "cell_type": "markdown",
   "metadata": {},
   "source": [
    "Third-party libraries are libraries (collections of code) that do not come with the core Python distribution. You can get these libraries through downloading the Anaconda distribution, which includes them all, or through installing them manually with `pip` (or `pip3`, depending on your system), which is the Python package manager.\n",
    "\n",
    "When importing a Python library, you can give it an alias, which is usually done to make something easier to type. It's good to follow standard protocol for a given library when doing this so that other people will recognize it throughout your code. \n",
    "\n",
    "`numpy` (typically abbreviated as `np`) provides the following:\n",
    "- a homogenous (read: for a single data type) array with very useful manipulation methods\n",
    "- a number of useful advanced math functions\n",
    "- other data type helpers\n",
    "- in many ways `numpy` is a collection of Python wrappers for very well-optimized C and FORTRAN math code\n",
    "\n",
    "`pandas` (typically abbreviated as `pd`) is:\n",
    "- a library that provides, amongst other things, a very nice data structure known as the `DataFrame`\n",
    "- the `DataFrame` is a relational / tabular data structure\n",
    "- i.e. it allows you to do SQL-ish analysis in Python\n",
    "- it also visualizes nicely in Jupyter notebooks\n",
    "- a good bit of Pandas is actually just user-friendly interfaces on top of `numpy`\n",
    "\n",
    "`matplotlib` (from which the `pyplot` submodule is typically imported and aliased as `plt`)\n",
    "- the old faithful data visualization library for Python\n",
    "- it definitely provides a steep learning curve\n",
    "- but it's a powerful tool once learned\n",
    "\n"
   ]
  },
  {
   "cell_type": "code",
   "execution_count": 2,
   "metadata": {},
   "outputs": [],
   "source": [
    "%matplotlib inline"
   ]
  },
  {
   "cell_type": "markdown",
   "metadata": {},
   "source": [
    "The above is a _magic_ Jupyter command that ensures all `matplotlib` plots will by default show in the notebook."
   ]
  },
  {
   "cell_type": "markdown",
   "metadata": {},
   "source": [
    "# 1. Get Data"
   ]
  },
  {
   "cell_type": "markdown",
   "metadata": {},
   "source": [
    "### Retrieve and quick look"
   ]
  },
  {
   "cell_type": "markdown",
   "metadata": {},
   "source": [
    "`pandas` provides us with a function that makes it very easy to read-in tabular data: `read_csv()`. In this case we pass the name of the file we want to read along with the value `None` for `header`, which tells the function that the file does not have a header / column name row."
   ]
  },
  {
   "cell_type": "code",
   "execution_count": 3,
   "metadata": {},
   "outputs": [],
   "source": [
    "data = pd.read_csv(\"census_data.csv\", header=None)"
   ]
  },
  {
   "cell_type": "markdown",
   "metadata": {},
   "source": [
    "When we read the data using this function, we are returned a `DataFrame` - this is a `pandas` data structure that is very useful for data analysis, in part because it provides a whole lot of very convenient methods (it will also visualize well in Jupyter notebooks). We can look at a `tuple` of (`number of rows`, `number of columns`):"
   ]
  },
  {
   "cell_type": "code",
   "execution_count": 4,
   "metadata": {},
   "outputs": [
    {
     "data": {
      "text/plain": [
       "(32561, 15)"
      ]
     },
     "execution_count": 4,
     "metadata": {},
     "output_type": "execute_result"
    }
   ],
   "source": [
    "data.shape"
   ]
  },
  {
   "cell_type": "markdown",
   "metadata": {},
   "source": [
    "We can call `.iloc` on the `DataFrame` to select rows based on their _integer location_, kind of like we'd do with a `list`. In fact, the same slicing rules apply:"
   ]
  },
  {
   "cell_type": "code",
   "execution_count": 5,
   "metadata": {},
   "outputs": [
    {
     "data": {
      "text/html": [
       "<div>\n",
       "<style scoped>\n",
       "    .dataframe tbody tr th:only-of-type {\n",
       "        vertical-align: middle;\n",
       "    }\n",
       "\n",
       "    .dataframe tbody tr th {\n",
       "        vertical-align: top;\n",
       "    }\n",
       "\n",
       "    .dataframe thead th {\n",
       "        text-align: right;\n",
       "    }\n",
       "</style>\n",
       "<table border=\"1\" class=\"dataframe\">\n",
       "  <thead>\n",
       "    <tr style=\"text-align: right;\">\n",
       "      <th></th>\n",
       "      <th>0</th>\n",
       "      <th>1</th>\n",
       "      <th>2</th>\n",
       "      <th>3</th>\n",
       "      <th>4</th>\n",
       "      <th>5</th>\n",
       "      <th>6</th>\n",
       "      <th>7</th>\n",
       "    </tr>\n",
       "  </thead>\n",
       "  <tbody>\n",
       "    <tr>\n",
       "      <th>0</th>\n",
       "      <td>39</td>\n",
       "      <td>State-gov</td>\n",
       "      <td>77516</td>\n",
       "      <td>Bachelors</td>\n",
       "      <td>13</td>\n",
       "      <td>Never-married</td>\n",
       "      <td>Adm-clerical</td>\n",
       "      <td>Not-in-family</td>\n",
       "    </tr>\n",
       "    <tr>\n",
       "      <th>1</th>\n",
       "      <td>50</td>\n",
       "      <td>Self-emp-not-inc</td>\n",
       "      <td>83311</td>\n",
       "      <td>Bachelors</td>\n",
       "      <td>13</td>\n",
       "      <td>Married-civ-spouse</td>\n",
       "      <td>Exec-managerial</td>\n",
       "      <td>Husband</td>\n",
       "    </tr>\n",
       "    <tr>\n",
       "      <th>2</th>\n",
       "      <td>38</td>\n",
       "      <td>Private</td>\n",
       "      <td>215646</td>\n",
       "      <td>HS-grad</td>\n",
       "      <td>9</td>\n",
       "      <td>Divorced</td>\n",
       "      <td>Handlers-cleaners</td>\n",
       "      <td>Not-in-family</td>\n",
       "    </tr>\n",
       "    <tr>\n",
       "      <th>3</th>\n",
       "      <td>53</td>\n",
       "      <td>Private</td>\n",
       "      <td>234721</td>\n",
       "      <td>11th</td>\n",
       "      <td>7</td>\n",
       "      <td>Married-civ-spouse</td>\n",
       "      <td>Handlers-cleaners</td>\n",
       "      <td>Husband</td>\n",
       "    </tr>\n",
       "    <tr>\n",
       "      <th>4</th>\n",
       "      <td>28</td>\n",
       "      <td>Private</td>\n",
       "      <td>338409</td>\n",
       "      <td>Bachelors</td>\n",
       "      <td>13</td>\n",
       "      <td>Married-civ-spouse</td>\n",
       "      <td>Prof-specialty</td>\n",
       "      <td>Wife</td>\n",
       "    </tr>\n",
       "  </tbody>\n",
       "</table>\n",
       "</div>"
      ],
      "text/plain": [
       "    0                  1       2           3   4                    5  \\\n",
       "0  39          State-gov   77516   Bachelors  13        Never-married   \n",
       "1  50   Self-emp-not-inc   83311   Bachelors  13   Married-civ-spouse   \n",
       "2  38            Private  215646     HS-grad   9             Divorced   \n",
       "3  53            Private  234721        11th   7   Married-civ-spouse   \n",
       "4  28            Private  338409   Bachelors  13   Married-civ-spouse   \n",
       "\n",
       "                    6               7  \n",
       "0        Adm-clerical   Not-in-family  \n",
       "1     Exec-managerial         Husband  \n",
       "2   Handlers-cleaners   Not-in-family  \n",
       "3   Handlers-cleaners         Husband  \n",
       "4      Prof-specialty            Wife  "
      ]
     },
     "execution_count": 5,
     "metadata": {},
     "output_type": "execute_result"
    }
   ],
   "source": [
    "data.iloc[:5, :8]"
   ]
  },
  {
   "cell_type": "markdown",
   "metadata": {},
   "source": [
    "We see that, as expected, the data came in with no columns. I know the column names, so we can create a `list` of column names (whose length must be equal to the width of the `DataFrame`) and set the `DataFrame`'s `columns` attribute equal to it:"
   ]
  },
  {
   "cell_type": "code",
   "execution_count": 6,
   "metadata": {},
   "outputs": [],
   "source": [
    "cols = ['age', 'workclass', 'fnlwgt', 'education', \n",
    "        'education_num', 'marital_status', 'occupation',\n",
    "        'relationship', 'race', 'sex', 'capital_gain',\n",
    "        'capital_loss', 'hours_per_week', 'native_country', \n",
    "        'over_fifty_k']"
   ]
  },
  {
   "cell_type": "code",
   "execution_count": 7,
   "metadata": {},
   "outputs": [],
   "source": [
    "data.columns = cols"
   ]
  },
  {
   "cell_type": "code",
   "execution_count": 8,
   "metadata": {},
   "outputs": [
    {
     "data": {
      "text/html": [
       "<div>\n",
       "<style scoped>\n",
       "    .dataframe tbody tr th:only-of-type {\n",
       "        vertical-align: middle;\n",
       "    }\n",
       "\n",
       "    .dataframe tbody tr th {\n",
       "        vertical-align: top;\n",
       "    }\n",
       "\n",
       "    .dataframe thead th {\n",
       "        text-align: right;\n",
       "    }\n",
       "</style>\n",
       "<table border=\"1\" class=\"dataframe\">\n",
       "  <thead>\n",
       "    <tr style=\"text-align: right;\">\n",
       "      <th></th>\n",
       "      <th>age</th>\n",
       "      <th>workclass</th>\n",
       "      <th>fnlwgt</th>\n",
       "      <th>education</th>\n",
       "      <th>education_num</th>\n",
       "      <th>marital_status</th>\n",
       "      <th>occupation</th>\n",
       "      <th>relationship</th>\n",
       "    </tr>\n",
       "  </thead>\n",
       "  <tbody>\n",
       "    <tr>\n",
       "      <th>0</th>\n",
       "      <td>39</td>\n",
       "      <td>State-gov</td>\n",
       "      <td>77516</td>\n",
       "      <td>Bachelors</td>\n",
       "      <td>13</td>\n",
       "      <td>Never-married</td>\n",
       "      <td>Adm-clerical</td>\n",
       "      <td>Not-in-family</td>\n",
       "    </tr>\n",
       "    <tr>\n",
       "      <th>1</th>\n",
       "      <td>50</td>\n",
       "      <td>Self-emp-not-inc</td>\n",
       "      <td>83311</td>\n",
       "      <td>Bachelors</td>\n",
       "      <td>13</td>\n",
       "      <td>Married-civ-spouse</td>\n",
       "      <td>Exec-managerial</td>\n",
       "      <td>Husband</td>\n",
       "    </tr>\n",
       "    <tr>\n",
       "      <th>2</th>\n",
       "      <td>38</td>\n",
       "      <td>Private</td>\n",
       "      <td>215646</td>\n",
       "      <td>HS-grad</td>\n",
       "      <td>9</td>\n",
       "      <td>Divorced</td>\n",
       "      <td>Handlers-cleaners</td>\n",
       "      <td>Not-in-family</td>\n",
       "    </tr>\n",
       "    <tr>\n",
       "      <th>3</th>\n",
       "      <td>53</td>\n",
       "      <td>Private</td>\n",
       "      <td>234721</td>\n",
       "      <td>11th</td>\n",
       "      <td>7</td>\n",
       "      <td>Married-civ-spouse</td>\n",
       "      <td>Handlers-cleaners</td>\n",
       "      <td>Husband</td>\n",
       "    </tr>\n",
       "    <tr>\n",
       "      <th>4</th>\n",
       "      <td>28</td>\n",
       "      <td>Private</td>\n",
       "      <td>338409</td>\n",
       "      <td>Bachelors</td>\n",
       "      <td>13</td>\n",
       "      <td>Married-civ-spouse</td>\n",
       "      <td>Prof-specialty</td>\n",
       "      <td>Wife</td>\n",
       "    </tr>\n",
       "  </tbody>\n",
       "</table>\n",
       "</div>"
      ],
      "text/plain": [
       "   age          workclass  fnlwgt   education  education_num  \\\n",
       "0   39          State-gov   77516   Bachelors             13   \n",
       "1   50   Self-emp-not-inc   83311   Bachelors             13   \n",
       "2   38            Private  215646     HS-grad              9   \n",
       "3   53            Private  234721        11th              7   \n",
       "4   28            Private  338409   Bachelors             13   \n",
       "\n",
       "        marital_status          occupation    relationship  \n",
       "0        Never-married        Adm-clerical   Not-in-family  \n",
       "1   Married-civ-spouse     Exec-managerial         Husband  \n",
       "2             Divorced   Handlers-cleaners   Not-in-family  \n",
       "3   Married-civ-spouse   Handlers-cleaners         Husband  \n",
       "4   Married-civ-spouse      Prof-specialty            Wife  "
      ]
     },
     "execution_count": 8,
     "metadata": {},
     "output_type": "execute_result"
    }
   ],
   "source": [
    "data.iloc[:5, :8]"
   ]
  },
  {
   "cell_type": "markdown",
   "metadata": {},
   "source": [
    "I generally like to start any analysis by looking at the top and bottom of the data that's been read in, to ensure columns are named appropriately, no junk data was picked up at the end, etc."
   ]
  },
  {
   "cell_type": "code",
   "execution_count": 9,
   "metadata": {},
   "outputs": [
    {
     "data": {
      "text/html": [
       "<div>\n",
       "<style scoped>\n",
       "    .dataframe tbody tr th:only-of-type {\n",
       "        vertical-align: middle;\n",
       "    }\n",
       "\n",
       "    .dataframe tbody tr th {\n",
       "        vertical-align: top;\n",
       "    }\n",
       "\n",
       "    .dataframe thead th {\n",
       "        text-align: right;\n",
       "    }\n",
       "</style>\n",
       "<table border=\"1\" class=\"dataframe\">\n",
       "  <thead>\n",
       "    <tr style=\"text-align: right;\">\n",
       "      <th></th>\n",
       "      <th>race</th>\n",
       "      <th>sex</th>\n",
       "      <th>capital_gain</th>\n",
       "      <th>capital_loss</th>\n",
       "      <th>hours_per_week</th>\n",
       "      <th>native_country</th>\n",
       "      <th>over_fifty_k</th>\n",
       "    </tr>\n",
       "  </thead>\n",
       "  <tbody>\n",
       "    <tr>\n",
       "      <th>32556</th>\n",
       "      <td>White</td>\n",
       "      <td>Female</td>\n",
       "      <td>0</td>\n",
       "      <td>0</td>\n",
       "      <td>38</td>\n",
       "      <td>United-States</td>\n",
       "      <td>&lt;=50K</td>\n",
       "    </tr>\n",
       "    <tr>\n",
       "      <th>32557</th>\n",
       "      <td>White</td>\n",
       "      <td>Male</td>\n",
       "      <td>0</td>\n",
       "      <td>0</td>\n",
       "      <td>40</td>\n",
       "      <td>United-States</td>\n",
       "      <td>&gt;50K</td>\n",
       "    </tr>\n",
       "    <tr>\n",
       "      <th>32558</th>\n",
       "      <td>White</td>\n",
       "      <td>Female</td>\n",
       "      <td>0</td>\n",
       "      <td>0</td>\n",
       "      <td>40</td>\n",
       "      <td>United-States</td>\n",
       "      <td>&lt;=50K</td>\n",
       "    </tr>\n",
       "    <tr>\n",
       "      <th>32559</th>\n",
       "      <td>White</td>\n",
       "      <td>Male</td>\n",
       "      <td>0</td>\n",
       "      <td>0</td>\n",
       "      <td>20</td>\n",
       "      <td>United-States</td>\n",
       "      <td>&lt;=50K</td>\n",
       "    </tr>\n",
       "    <tr>\n",
       "      <th>32560</th>\n",
       "      <td>White</td>\n",
       "      <td>Female</td>\n",
       "      <td>15024</td>\n",
       "      <td>0</td>\n",
       "      <td>40</td>\n",
       "      <td>United-States</td>\n",
       "      <td>&gt;50K</td>\n",
       "    </tr>\n",
       "  </tbody>\n",
       "</table>\n",
       "</div>"
      ],
      "text/plain": [
       "         race      sex  capital_gain  capital_loss  hours_per_week  \\\n",
       "32556   White   Female             0             0              38   \n",
       "32557   White     Male             0             0              40   \n",
       "32558   White   Female             0             0              40   \n",
       "32559   White     Male             0             0              20   \n",
       "32560   White   Female         15024             0              40   \n",
       "\n",
       "       native_country over_fifty_k  \n",
       "32556   United-States        <=50K  \n",
       "32557   United-States         >50K  \n",
       "32558   United-States        <=50K  \n",
       "32559   United-States        <=50K  \n",
       "32560   United-States         >50K  "
      ]
     },
     "execution_count": 9,
     "metadata": {},
     "output_type": "execute_result"
    }
   ],
   "source": [
    "data.iloc[-5:, -7:]"
   ]
  },
  {
   "cell_type": "markdown",
   "metadata": {},
   "source": [
    "#### Problem\n",
    "\n",
    "Look at rows 100 _through_ 110, in colums 10 and 11, and make sure all the data looks OK."
   ]
  },
  {
   "cell_type": "markdown",
   "metadata": {},
   "source": [
    "### Cleanliness check"
   ]
  },
  {
   "cell_type": "markdown",
   "metadata": {},
   "source": [
    "It's important to always check to see if you have any duplicates or missing values in your data before you really get going. `pandas` makes both tasks very easy:"
   ]
  },
  {
   "cell_type": "code",
   "execution_count": 10,
   "metadata": {},
   "outputs": [
    {
     "data": {
      "text/plain": [
       "24"
      ]
     },
     "execution_count": 10,
     "metadata": {},
     "output_type": "execute_result"
    }
   ],
   "source": [
    "data.duplicated().sum()"
   ]
  },
  {
   "cell_type": "markdown",
   "metadata": {},
   "source": [
    "In this case we have some duplicates in our data! Let's take a look at where they are in the index:"
   ]
  },
  {
   "cell_type": "code",
   "execution_count": 11,
   "metadata": {},
   "outputs": [
    {
     "data": {
      "text/plain": [
       "Int64Index([ 4881,  5104,  9171, 11631, 13084, 15059, 17040, 18555, 18698,\n",
       "            21318, 21490, 21875, 22300, 22367, 22494, 25872, 26313, 28230,\n",
       "            28522, 28846, 29157, 30845, 31993, 32404],\n",
       "           dtype='int64')"
      ]
     },
     "execution_count": 11,
     "metadata": {},
     "output_type": "execute_result"
    }
   ],
   "source": [
    "data[data.duplicated()].index"
   ]
  },
  {
   "cell_type": "markdown",
   "metadata": {},
   "source": [
    "One of the ways in which we can filter a `DataFrame` is to pass a condition into it using square brackets, e.g. `data[data.duplicated()]`. \n",
    "\n",
    "`duplicated()` is a method that returns `True` for every row in `data` that is a duplicate. The square bracket syntax works such that it will then return the rows in the `DataFrame` that have a value of `True`. So, `duplicated` returns a whole collection of `True` or `False` values for each position in the index, and the square bracket syntax then returns the the row for each `True` index value. \n",
    "\n",
    "In this case, we only want the index of these rows, not the whole row, so we call the `index` attribute on the results of the square bracket query. \n",
    "\n",
    "Let's quickly look at another example of filtering using the square bracket syntax:"
   ]
  },
  {
   "cell_type": "code",
   "execution_count": 12,
   "metadata": {},
   "outputs": [
    {
     "data": {
      "text/plain": [
       "2712"
      ]
     },
     "execution_count": 12,
     "metadata": {},
     "output_type": "execute_result"
    }
   ],
   "source": [
    "len(data[data.capital_gain > 0])"
   ]
  },
  {
   "cell_type": "markdown",
   "metadata": {},
   "source": [
    "Above we've filtered the `DataFrame` to only the rows in which `capital_gain` is greater than 0. We then pass the results of that into the built-in `len` function, which will tell you how many items are in the iterable that's been passed."
   ]
  },
  {
   "cell_type": "markdown",
   "metadata": {},
   "source": [
    "#### Problem\n",
    "\n",
    "Count the number of rows in the table corresponding to folks who are over the age of 30."
   ]
  },
  {
   "cell_type": "markdown",
   "metadata": {},
   "source": [
    "Now, let's go ahead and drop our duplicate values:"
   ]
  },
  {
   "cell_type": "code",
   "execution_count": 13,
   "metadata": {},
   "outputs": [],
   "source": [
    "data = data.drop_duplicates()"
   ]
  },
  {
   "cell_type": "code",
   "execution_count": 14,
   "metadata": {},
   "outputs": [
    {
     "data": {
      "text/plain": [
       "0"
      ]
     },
     "execution_count": 14,
     "metadata": {},
     "output_type": "execute_result"
    }
   ],
   "source": [
    "data.duplicated().sum()"
   ]
  },
  {
   "cell_type": "markdown",
   "metadata": {},
   "source": [
    "We can also check for `null` or missing values:"
   ]
  },
  {
   "cell_type": "code",
   "execution_count": 15,
   "metadata": {},
   "outputs": [
    {
     "data": {
      "text/plain": [
       "age               0\n",
       "workclass         0\n",
       "fnlwgt            0\n",
       "education         0\n",
       "education_num     0\n",
       "marital_status    0\n",
       "occupation        0\n",
       "relationship      0\n",
       "race              0\n",
       "sex               0\n",
       "capital_gain      0\n",
       "capital_loss      0\n",
       "hours_per_week    0\n",
       "native_country    0\n",
       "over_fifty_k      0\n",
       "dtype: int64"
      ]
     },
     "execution_count": 15,
     "metadata": {},
     "output_type": "execute_result"
    }
   ],
   "source": [
    "data.isnull().sum()"
   ]
  },
  {
   "cell_type": "markdown",
   "metadata": {},
   "source": [
    "# 2. Exploratory Data Analysis\n",
    "\n",
    "Exploratory data analysis (EDA) is key to understanding your data - this is where you poke around and see how things work."
   ]
  },
  {
   "cell_type": "code",
   "execution_count": 16,
   "metadata": {},
   "outputs": [
    {
     "data": {
      "text/plain": [
       "object    9\n",
       "int64     6\n",
       "dtype: int64"
      ]
     },
     "execution_count": 16,
     "metadata": {},
     "output_type": "execute_result"
    }
   ],
   "source": [
    "data.dtypes.value_counts()"
   ]
  },
  {
   "cell_type": "markdown",
   "metadata": {},
   "source": [
    "`data.dtypes` tells us the data type for every column in `data`. The `value_counts()` method then returns the frequency of each type."
   ]
  },
  {
   "cell_type": "markdown",
   "metadata": {},
   "source": [
    "### `education`\n",
    "\n",
    "Let's dive deeper into a single column of the `DataFrame`. `DataFrame` columns are instances of what `pandas` calls the `Series` class - they're kinda like `DataFrames`, and the two have many common attributes and methods, but `Series` objects contain, for the purposes of this discussion, only an index and a single column of data."
   ]
  },
  {
   "cell_type": "code",
   "execution_count": 17,
   "metadata": {
    "scrolled": true
   },
   "outputs": [
    {
     "data": {
      "text/plain": [
       "0     Bachelors\n",
       "1     Bachelors\n",
       "2       HS-grad\n",
       "3          11th\n",
       "4     Bachelors\n",
       "Name: education, dtype: object"
      ]
     },
     "execution_count": 17,
     "metadata": {},
     "output_type": "execute_result"
    }
   ],
   "source": [
    "data.education.head()"
   ]
  },
  {
   "cell_type": "markdown",
   "metadata": {},
   "source": [
    "#### Problem\n",
    "\n",
    "Tell me the most frequent education level in the data. "
   ]
  },
  {
   "cell_type": "code",
   "execution_count": 18,
   "metadata": {},
   "outputs": [
    {
     "data": {
      "text/plain": [
       "16"
      ]
     },
     "execution_count": 18,
     "metadata": {},
     "output_type": "execute_result"
    }
   ],
   "source": [
    "data.education.nunique()"
   ]
  },
  {
   "cell_type": "markdown",
   "metadata": {},
   "source": [
    "`nunique()` is a `Series` method that tells us how many unique values there are. "
   ]
  },
  {
   "cell_type": "markdown",
   "metadata": {},
   "source": [
    "We can pass `normalize=True` to `value_counts()` to see, instead of the value count, the value proportion of the entire dataset:"
   ]
  },
  {
   "cell_type": "code",
   "execution_count": 19,
   "metadata": {},
   "outputs": [
    {
     "data": {
      "text/plain": [
       " HS-grad         0.322525\n",
       " Some-college    0.223807\n",
       " Bachelors       0.164520\n",
       " Masters         0.052924\n",
       " Assoc-voc       0.042475\n",
       " 11th            0.036113\n",
       " Assoc-acdm      0.032793\n",
       " 10th            0.028675\n",
       " 7th-8th         0.019824\n",
       " Prof-school     0.017703\n",
       " 9th             0.015797\n",
       " 12th            0.013308\n",
       " Doctorate       0.012693\n",
       " 5th-6th         0.010204\n",
       " 1st-4th         0.005102\n",
       " Preschool       0.001537\n",
       "Name: education, dtype: float64"
      ]
     },
     "execution_count": 19,
     "metadata": {},
     "output_type": "execute_result"
    }
   ],
   "source": [
    "data.education.value_counts(normalize=True)"
   ]
  },
  {
   "cell_type": "markdown",
   "metadata": {},
   "source": [
    "We can now go ahead and plot this data if we'd like:"
   ]
  },
  {
   "cell_type": "code",
   "execution_count": 20,
   "metadata": {},
   "outputs": [
    {
     "data": {
      "image/png": "[encoded data removed]",
      "text/plain": [
       "<Figure size 792x576 with 1 Axes>"
      ]
     },
     "metadata": {
      "needs_background": "light"
     },
     "output_type": "display_data"
    }
   ],
   "source": [
    "ax = data.education.value_counts(normalize=True).plot.barh(figsize=(11, 8), color=\"steelblue\")\n",
    "xlab = ax.set_xlabel(\"count\")\n",
    "ylab = ax.set_ylabel(\"education label\")\n",
    "t = ax.set_title(\"normalized frequency of education levels\")"
   ]
  },
  {
   "cell_type": "markdown",
   "metadata": {},
   "source": [
    "`DataFrame` and `Series` objects come with some nice plotting functionality built-in, a lot of which wraps the `matplotlib` library. \n",
    "\n",
    "One of the ways to get at the different types of plots is to first access `plot` (as we did) but not call it (i.e. no `()`) and instad call a particular type of plot method available through `plot` (in this case, `barh`).\n",
    "\n",
    "We passed some arguments to `barh()` to change the size of the plot and the color of the bars. We've also set X and Y labels, as well as a title (always give your plots titles!). "
   ]
  },
  {
   "cell_type": "markdown",
   "metadata": {},
   "source": [
    "#### Problem\n",
    "\n",
    "Pick another column in the data, one which doesn't have too many values, and produce the most common values in that column. Then, plot your resuls."
   ]
  },
  {
   "cell_type": "markdown",
   "metadata": {},
   "source": [
    "### `over_fifty_k`"
   ]
  },
  {
   "cell_type": "code",
   "execution_count": 21,
   "metadata": {},
   "outputs": [
    {
     "data": {
      "text/plain": [
       " <=50K    0.759074\n",
       " >50K     0.240926\n",
       "Name: over_fifty_k, dtype: float64"
      ]
     },
     "execution_count": 21,
     "metadata": {},
     "output_type": "execute_result"
    }
   ],
   "source": [
    "data.over_fifty_k.value_counts(normalize=True)"
   ]
  },
  {
   "cell_type": "code",
   "execution_count": 22,
   "metadata": {},
   "outputs": [
    {
     "data": {
      "text/plain": [
       "array([' <=50K', ' >50K'], dtype=object)"
      ]
     },
     "execution_count": 22,
     "metadata": {},
     "output_type": "execute_result"
    }
   ],
   "source": [
    "data.over_fifty_k.unique()"
   ]
  },
  {
   "cell_type": "markdown",
   "metadata": {},
   "source": [
    "In this case, I don't love these `str` representations of what is really `bool` data (you can see that they have issues, in the form of leading spaces). Let's write a function to convert these values to `bool` type, and then `apply` that function over the rows of the `DataFrame`. The `apply` method allows you to write your own functionality when the `DataFrame` doesn't have what you want built-in:"
   ]
  },
  {
   "cell_type": "code",
   "execution_count": 23,
   "metadata": {},
   "outputs": [],
   "source": [
    "def is_over_fifty_k(income):\n",
    "    return income.strip() == \">50K\""
   ]
  },
  {
   "cell_type": "code",
   "execution_count": 24,
   "metadata": {},
   "outputs": [],
   "source": [
    "data[\"over_fifty_k_bool\"] = data.over_fifty_k.apply(is_over_fifty_k)"
   ]
  },
  {
   "cell_type": "markdown",
   "metadata": {},
   "source": [
    "The above shows how you create a new column in `pandas`: `df[\"new_column_name\"] = ...`"
   ]
  },
  {
   "cell_type": "code",
   "execution_count": 25,
   "metadata": {},
   "outputs": [
    {
     "data": {
      "text/plain": [
       "0    False\n",
       "1    False\n",
       "2    False\n",
       "3    False\n",
       "4    False\n",
       "Name: over_fifty_k_bool, dtype: bool"
      ]
     },
     "execution_count": 25,
     "metadata": {},
     "output_type": "execute_result"
    }
   ],
   "source": [
    "data.over_fifty_k_bool.head()"
   ]
  },
  {
   "cell_type": "markdown",
   "metadata": {},
   "source": [
    "We can use a SQL-style _join_ to connect our new column directly to the original column, meaning pandas will line up the data in the two columns based on where there indices overlap."
   ]
  },
  {
   "cell_type": "code",
   "execution_count": 26,
   "metadata": {},
   "outputs": [
    {
     "data": {
      "text/html": [
       "<div>\n",
       "<style scoped>\n",
       "    .dataframe tbody tr th:only-of-type {\n",
       "        vertical-align: middle;\n",
       "    }\n",
       "\n",
       "    .dataframe tbody tr th {\n",
       "        vertical-align: top;\n",
       "    }\n",
       "\n",
       "    .dataframe thead th {\n",
       "        text-align: right;\n",
       "    }\n",
       "</style>\n",
       "<table border=\"1\" class=\"dataframe\">\n",
       "  <thead>\n",
       "    <tr style=\"text-align: right;\">\n",
       "      <th></th>\n",
       "      <th>over_fifty_k</th>\n",
       "      <th>over_fifty_k_bool</th>\n",
       "    </tr>\n",
       "  </thead>\n",
       "  <tbody>\n",
       "    <tr>\n",
       "      <th>0</th>\n",
       "      <td>&lt;=50K</td>\n",
       "      <td>False</td>\n",
       "    </tr>\n",
       "    <tr>\n",
       "      <th>1</th>\n",
       "      <td>&lt;=50K</td>\n",
       "      <td>False</td>\n",
       "    </tr>\n",
       "    <tr>\n",
       "      <th>2</th>\n",
       "      <td>&lt;=50K</td>\n",
       "      <td>False</td>\n",
       "    </tr>\n",
       "    <tr>\n",
       "      <th>3</th>\n",
       "      <td>&lt;=50K</td>\n",
       "      <td>False</td>\n",
       "    </tr>\n",
       "    <tr>\n",
       "      <th>4</th>\n",
       "      <td>&lt;=50K</td>\n",
       "      <td>False</td>\n",
       "    </tr>\n",
       "  </tbody>\n",
       "</table>\n",
       "</div>"
      ],
      "text/plain": [
       "  over_fifty_k  over_fifty_k_bool\n",
       "0        <=50K              False\n",
       "1        <=50K              False\n",
       "2        <=50K              False\n",
       "3        <=50K              False\n",
       "4        <=50K              False"
      ]
     },
     "execution_count": 26,
     "metadata": {},
     "output_type": "execute_result"
    }
   ],
   "source": [
    "data.over_fifty_k.to_frame().join(data.over_fifty_k_bool).head()"
   ]
  },
  {
   "cell_type": "markdown",
   "metadata": {},
   "source": [
    "You'll notice above that we call `to_frame()` on `data.over_fifty_k`.\n",
    "\n",
    "The pandas `Series` and `DataFrame` share a lot of functionality. But, every once in a while, you'll want to run a function on a `Series`, only to find that it's only available in the `DataFrame`, and that's what's happened here - you can only call `join()` from a `DataFrame`.\n",
    "\n",
    "Plus, the DataFrame output looks much nicer in Jupyter. So `to_frame()` allows you to quickly convert a `Series` to a `DataFrame`."
   ]
  },
  {
   "cell_type": "code",
   "execution_count": 27,
   "metadata": {},
   "outputs": [
    {
     "data": {
      "text/plain": [
       "False    0.759074\n",
       "True     0.240926\n",
       "Name: over_fifty_k_bool, dtype: float64"
      ]
     },
     "execution_count": 27,
     "metadata": {},
     "output_type": "execute_result"
    }
   ],
   "source": [
    "data.over_fifty_k_bool.value_counts(normalize=True)"
   ]
  },
  {
   "cell_type": "markdown",
   "metadata": {},
   "source": [
    "#### Problem\n",
    "\n",
    "Perform a similar data cleaning on `martial_status`, where you'll create a new column, `marital_status_clean`, for which leading a trailing spaces have been removed. You should also lowercase these values. While you're at it, you might as well go ahead and plot the normalized value counts for this `marital_status_clean` column. Try changing the plot color and title around to your liking."
   ]
  },
  {
   "cell_type": "markdown",
   "metadata": {},
   "source": [
    "### `capital_gain`"
   ]
  },
  {
   "cell_type": "code",
   "execution_count": 28,
   "metadata": {},
   "outputs": [
    {
     "data": {
      "text/plain": [
       "count    32537.000000\n",
       "mean      1078.443741\n",
       "std       7387.957424\n",
       "min          0.000000\n",
       "25%          0.000000\n",
       "50%          0.000000\n",
       "75%          0.000000\n",
       "max      99999.000000\n",
       "Name: capital_gain, dtype: float64"
      ]
     },
     "execution_count": 28,
     "metadata": {},
     "output_type": "execute_result"
    }
   ],
   "source": [
    "data.capital_gain.describe()"
   ]
  },
  {
   "cell_type": "markdown",
   "metadata": {},
   "source": [
    "A great way to get acquainted with a `Series` is to call the `describe()` method, which will return a `Series` of the following descriptive statistics (for continuous data - the results are a little different for categorical / label data):\n",
    "- number of non-null items\n",
    "- arithmetic average and stardard deviation\n",
    "- the following quantiles: [0, .25, .5, .75, 1]\n",
    "\n",
    "Note that you can also produce all these statistics individually, e.g."
   ]
  },
  {
   "cell_type": "code",
   "execution_count": 29,
   "metadata": {},
   "outputs": [
    {
     "data": {
      "text/plain": [
       "1078.4437409718166"
      ]
     },
     "execution_count": 29,
     "metadata": {},
     "output_type": "execute_result"
    }
   ],
   "source": [
    "data.capital_gain.mean()"
   ]
  },
  {
   "cell_type": "code",
   "execution_count": 30,
   "metadata": {},
   "outputs": [
    {
     "data": {
      "text/plain": [
       "0.00        0.0\n",
       "0.25        0.0\n",
       "0.50        0.0\n",
       "0.75        0.0\n",
       "1.00    99999.0\n",
       "Name: capital_gain, dtype: float64"
      ]
     },
     "execution_count": 30,
     "metadata": {},
     "output_type": "execute_result"
    }
   ],
   "source": [
    "data.capital_gain.quantile([0, .25, .5, .75, 1])"
   ]
  },
  {
   "cell_type": "markdown",
   "metadata": {},
   "source": [
    "Let's graph `data.capital_gain` as a histogram, which buckets the data into evenly-spaced bins and returns the number of items in each bin. This will give us a good feel for the data's distribution:"
   ]
  },
  {
   "cell_type": "code",
   "execution_count": 31,
   "metadata": {},
   "outputs": [
    {
     "data": {
      "image/png": "[encoded data removed]",
      "text/plain": [
       "<Figure size 792x576 with 1 Axes>"
      ]
     },
     "metadata": {
      "needs_background": "light"
     },
     "output_type": "display_data"
    }
   ],
   "source": [
    "ax = data.capital_gain.hist(figsize=(11, 8), bins=100)\n",
    "xlab = ax.set_xlabel(\"count\")\n",
    "ylab = ax.set_ylabel(\"capital gain\")\n",
    "t = ax.set_title(\"histogram of capital gain\")"
   ]
  },
  {
   "cell_type": "markdown",
   "metadata": {},
   "source": [
    "We can see that so much of `data.capital_gain` has a value of 0 that it's hard to really look at the non-zero data. Let's filter to only values greater than 0 and try again.\n",
    "\n",
    "To achieve this, we can use `loc` to query the `DataFrame`, by following the form of: `DataFrame.loc[row_selection, column_selection]`"
   ]
  },
  {
   "cell_type": "code",
   "execution_count": 32,
   "metadata": {},
   "outputs": [],
   "source": [
    "capital_gains_filtered = data.loc[data.capital_gain > 0, \"capital_gain\"]"
   ]
  },
  {
   "cell_type": "code",
   "execution_count": 33,
   "metadata": {},
   "outputs": [
    {
     "data": {
      "image/png": "[encoded data removed]",
      "text/plain": [
       "<Figure size 792x576 with 1 Axes>"
      ]
     },
     "metadata": {
      "needs_background": "light"
     },
     "output_type": "display_data"
    }
   ],
   "source": [
    "ax = capital_gains_filtered.hist(figsize=(11, 8), bins=100)\n",
    "xlab = ax.set_xlabel(\"count\")\n",
    "ylab = ax.set_ylabel(\"capital gain\")\n",
    "t = ax.set_title(\"histogram of filtered (> 0) capital gain\")"
   ]
  },
  {
   "cell_type": "markdown",
   "metadata": {},
   "source": [
    "This is an interesting distribution - we see a sort of positively skewed (long tail to the right) mess with a weird spike at $100,000, where this data was likely capped and bucketed."
   ]
  },
  {
   "cell_type": "markdown",
   "metadata": {},
   "source": [
    "#### Problem\n",
    "\n",
    "Produce a similar analysis for `capital_loss`. "
   ]
  },
  {
   "cell_type": "markdown",
   "metadata": {},
   "source": [
    "### Back to `capital_gain`\n",
    "\n",
    "Let's say that we came to find out that all of the 0's in `capital_gain` were in fact just representations of `null` data. \n",
    "\n",
    "Note that people really do this, and that it's terrible - this is numerical data, which means that 0 has a meaning. The only time this really makes sense is if 0 is actually an extreme / impossible value for the data. Even then, that would be considered a pre-modeling treatment and not something you'd want to distribute to other folks as part of your core data set.\n",
    "\n",
    "But let's say that, hypothetically, this happened - what would you do? You might start by re-representing the `null` data in its correct form."
   ]
  },
  {
   "cell_type": "code",
   "execution_count": 34,
   "metadata": {},
   "outputs": [],
   "source": [
    "cap_gain_missing = data.capital_gain"
   ]
  },
  {
   "cell_type": "code",
   "execution_count": 35,
   "metadata": {},
   "outputs": [],
   "source": [
    "cap_gain_missing = cap_gain_missing.apply(lambda x: np.nan if x == 0 else x)"
   ]
  },
  {
   "cell_type": "markdown",
   "metadata": {},
   "source": [
    "Here we've run `apply` with a function that returns `np.nan` (a `pandas`-friendly `null` encoding from `numpy`), but instead of using the usual `def` syntax to define the function, we've used `lambda`.\n",
    "\n",
    "Our `lambda` function is what's referred to as an _anonymous function_, as it's never formally defined and given a name. This can be a great way to write on-the-go or throw-away functions (as we've done here)."
   ]
  },
  {
   "cell_type": "code",
   "execution_count": 36,
   "metadata": {},
   "outputs": [
    {
     "data": {
      "text/plain": [
       "29825"
      ]
     },
     "execution_count": 36,
     "metadata": {},
     "output_type": "execute_result"
    }
   ],
   "source": [
    "cap_gain_missing.isnull().sum()"
   ]
  },
  {
   "cell_type": "markdown",
   "metadata": {},
   "source": [
    "We can also quickly fill our missing values using the `fillna()` method, if we've determined that replacing with 0 is the right thing to do:"
   ]
  },
  {
   "cell_type": "code",
   "execution_count": 37,
   "metadata": {},
   "outputs": [],
   "source": [
    "cap_gain_missing = cap_gain_missing.fillna(0)"
   ]
  },
  {
   "cell_type": "code",
   "execution_count": 38,
   "metadata": {},
   "outputs": [
    {
     "data": {
      "text/plain": [
       "0"
      ]
     },
     "execution_count": 38,
     "metadata": {},
     "output_type": "execute_result"
    }
   ],
   "source": [
    "cap_gain_missing.isnull().sum()"
   ]
  },
  {
   "cell_type": "markdown",
   "metadata": {},
   "source": [
    "### Looking at multiple columns: `education` and `capital_gain`:"
   ]
  },
  {
   "cell_type": "markdown",
   "metadata": {},
   "source": [
    "Let's say you'd want to look at how one data set lies when it's grouped around another - how would you do that? You would call the `groupby()` method, which operates similarly to the `group by` syntax in SQL, and which provides some of the functionality that's encapulated in `pivot` in Excel.\n",
    "\n",
    "`groupby()` works as follows:\n",
    "1. select the data you'd like to query\n",
    "2. call `groupby()` and pass to it the column(s) you'd like to group around\n",
    "3. call some sort of aggregation function\n",
    "\n",
    "In this case we want to:\n",
    "1. query `education` and `capital_gain`, so we call `data[[\"education\", \"capital_gain\"]]` (multiple columns require double brackets)\n",
    "2. pass `education` to `groupby`\n",
    "3. call `mean()`, which will give us the average capital gain for each group"
   ]
  },
  {
   "cell_type": "code",
   "execution_count": 39,
   "metadata": {},
   "outputs": [
    {
     "data": {
      "text/html": [
       "<div>\n",
       "<style scoped>\n",
       "    .dataframe tbody tr th:only-of-type {\n",
       "        vertical-align: middle;\n",
       "    }\n",
       "\n",
       "    .dataframe tbody tr th {\n",
       "        vertical-align: top;\n",
       "    }\n",
       "\n",
       "    .dataframe thead th {\n",
       "        text-align: right;\n",
       "    }\n",
       "</style>\n",
       "<table border=\"1\" class=\"dataframe\">\n",
       "  <thead>\n",
       "    <tr style=\"text-align: right;\">\n",
       "      <th></th>\n",
       "      <th>capital_gain</th>\n",
       "    </tr>\n",
       "    <tr>\n",
       "      <th>education</th>\n",
       "      <th></th>\n",
       "    </tr>\n",
       "  </thead>\n",
       "  <tbody>\n",
       "    <tr>\n",
       "      <th>10th</th>\n",
       "      <td>404.574491</td>\n",
       "    </tr>\n",
       "    <tr>\n",
       "      <th>11th</th>\n",
       "      <td>215.097872</td>\n",
       "    </tr>\n",
       "    <tr>\n",
       "      <th>12th</th>\n",
       "      <td>284.087760</td>\n",
       "    </tr>\n",
       "    <tr>\n",
       "      <th>1st-4th</th>\n",
       "      <td>127.391566</td>\n",
       "    </tr>\n",
       "    <tr>\n",
       "      <th>5th-6th</th>\n",
       "      <td>176.551205</td>\n",
       "    </tr>\n",
       "    <tr>\n",
       "      <th>7th-8th</th>\n",
       "      <td>234.302326</td>\n",
       "    </tr>\n",
       "    <tr>\n",
       "      <th>9th</th>\n",
       "      <td>342.089494</td>\n",
       "    </tr>\n",
       "    <tr>\n",
       "      <th>Assoc-acdm</th>\n",
       "      <td>640.399250</td>\n",
       "    </tr>\n",
       "    <tr>\n",
       "      <th>Assoc-voc</th>\n",
       "      <td>715.051375</td>\n",
       "    </tr>\n",
       "    <tr>\n",
       "      <th>Bachelors</th>\n",
       "      <td>1756.955726</td>\n",
       "    </tr>\n",
       "    <tr>\n",
       "      <th>Doctorate</th>\n",
       "      <td>4770.145278</td>\n",
       "    </tr>\n",
       "    <tr>\n",
       "      <th>HS-grad</th>\n",
       "      <td>577.184868</td>\n",
       "    </tr>\n",
       "    <tr>\n",
       "      <th>Masters</th>\n",
       "      <td>2564.051684</td>\n",
       "    </tr>\n",
       "    <tr>\n",
       "      <th>Preschool</th>\n",
       "      <td>916.360000</td>\n",
       "    </tr>\n",
       "    <tr>\n",
       "      <th>Prof-school</th>\n",
       "      <td>10414.416667</td>\n",
       "    </tr>\n",
       "    <tr>\n",
       "      <th>Some-college</th>\n",
       "      <td>599.564268</td>\n",
       "    </tr>\n",
       "  </tbody>\n",
       "</table>\n",
       "</div>"
      ],
      "text/plain": [
       "               capital_gain\n",
       "education                  \n",
       " 10th            404.574491\n",
       " 11th            215.097872\n",
       " 12th            284.087760\n",
       " 1st-4th         127.391566\n",
       " 5th-6th         176.551205\n",
       " 7th-8th         234.302326\n",
       " 9th             342.089494\n",
       " Assoc-acdm      640.399250\n",
       " Assoc-voc       715.051375\n",
       " Bachelors      1756.955726\n",
       " Doctorate      4770.145278\n",
       " HS-grad         577.184868\n",
       " Masters        2564.051684\n",
       " Preschool       916.360000\n",
       " Prof-school   10414.416667\n",
       " Some-college    599.564268"
      ]
     },
     "execution_count": 39,
     "metadata": {},
     "output_type": "execute_result"
    }
   ],
   "source": [
    "data[[\"education\", \"capital_gain\"]\n",
    "    ].groupby([\"education\"]\n",
    "    ).mean()"
   ]
  },
  {
   "cell_type": "markdown",
   "metadata": {},
   "source": [
    "#### Problem\n",
    "\n",
    "Perform a similar aggregation of `capital_loss`, and then _join_ those results to the results for `capital_gain`."
   ]
  },
  {
   "cell_type": "markdown",
   "metadata": {},
   "source": [
    "We can now plot these results:"
   ]
  },
  {
   "cell_type": "code",
   "execution_count": 40,
   "metadata": {},
   "outputs": [
    {
     "data": {
      "image/png": "[encoded data removed]",
      "text/plain": [
       "<Figure size 792x576 with 1 Axes>"
      ]
     },
     "metadata": {
      "needs_background": "light"
     },
     "output_type": "display_data"
    }
   ],
   "source": [
    "ax = data[[\"education\", \"capital_gain\"]\n",
    "          ].groupby([\"education\"]\n",
    "          ).mean(\n",
    "          ).sort_values(\"capital_gain\"\n",
    "          ).plot.barh(figsize=(11, 8))"
   ]
  },
  {
   "cell_type": "markdown",
   "metadata": {},
   "source": [
    "Can we break this analysis out by whether or not someone's making over $50K?"
   ]
  },
  {
   "cell_type": "code",
   "execution_count": 52,
   "metadata": {},
   "outputs": [
    {
     "data": {
      "image/png": "[encoded data removed]",
      "text/plain": [
       "<Figure size 792x576 with 1 Axes>"
      ]
     },
     "metadata": {
      "needs_background": "light"
     },
     "output_type": "display_data"
    }
   ],
   "source": [
    "ax = data.loc[data.over_fifty_k_bool, [\"education\", \"capital_gain\"]\n",
    "             ].groupby([\"education\"]\n",
    "             ).mean(\n",
    "             ).plot.barh(figsize=(11, 8))\n",
    "\n",
    "ax = data.loc[~data.over_fifty_k_bool, [\"education\", \"capital_gain\"]\n",
    "             ].groupby([\"education\"]\n",
    "             ).mean(\n",
    "             ).sort_values(\"capital_gain\"\n",
    "             ).plot.barh(figsize=(11, 8), color=\"orange\", ax=ax)\n",
    "\n",
    "ax.get_legend().remove()"
   ]
  },
  {
   "cell_type": "markdown",
   "metadata": {},
   "source": [
    "#### Problem\n",
    "\n",
    "Similarly to what you did before, get average capital loss for each education group, and join that into the results for capital gain.\n",
    "\n",
    "This time, howver, you should make a `ratio` column, which represents the ratio of loss to gain, in the resulting table. \n",
    "\n",
    "Finally, plot the `ratio` column similar to what we've done directly above, where we've broken out the data by `over_fifty_k_bool`. Feel free to have some fun with the colors and whatnot!"
   ]
  },
  {
   "cell_type": "code",
   "execution_count": null,
   "metadata": {},
   "outputs": [],
   "source": []
  }
 ],
 "metadata": {
  "kernelspec": {
   "display_name": "Python 3",
   "language": "python",
   "name": "python3"
  },
  "language_info": {
   "codemirror_mode": {
    "name": "ipython",
    "version": 3
   },
   "file_extension": ".py",
   "mimetype": "text/x-python",
   "name": "python",
   "nbconvert_exporter": "python",
   "pygments_lexer": "ipython3",
   "version": "3.6.7"
  }
 },
 "nbformat": 4,
 "nbformat_minor": 2
}
